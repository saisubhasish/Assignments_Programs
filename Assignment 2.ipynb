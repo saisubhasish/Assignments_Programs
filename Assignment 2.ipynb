{
 "cells": [
  {
   "cell_type": "code",
   "execution_count": null,
   "id": "78ac4abe",
   "metadata": {},
   "outputs": [],
   "source": [
    "Value of boolean data type are : True & Falue. We write them with first character as upper case. "
   ]
  },
  {
   "cell_type": "code",
   "execution_count": null,
   "id": "85341e27",
   "metadata": {},
   "outputs": [],
   "source": [
    "Three different boolean operators are : and, or, not."
   ]
  },
  {
   "cell_type": "code",
   "execution_count": null,
   "id": "5a707bcf",
   "metadata": {},
   "outputs": [],
   "source": [
    "1. and\n",
    "    True and True = True\n",
    "    True and False = False\n",
    "    False and True = False\n",
    "    False and False = False\n",
    "2. or\n",
    "    True and True = True\n",
    "    True and False = True\n",
    "    False and True = True\n",
    "    False and False = False\n",
    "3. not\n",
    "    not True = False\n",
    "    not False = True"
   ]
  },
  {
   "cell_type": "code",
   "execution_count": 1,
   "id": "985e101c",
   "metadata": {},
   "outputs": [
    {
     "data": {
      "text/plain": [
       "False"
      ]
     },
     "execution_count": 1,
     "metadata": {},
     "output_type": "execute_result"
    }
   ],
   "source": [
    "(5 > 4) and (3 == 5)"
   ]
  },
  {
   "cell_type": "code",
   "execution_count": 2,
   "id": "06ae07b1",
   "metadata": {},
   "outputs": [
    {
     "data": {
      "text/plain": [
       "False"
      ]
     },
     "execution_count": 2,
     "metadata": {},
     "output_type": "execute_result"
    }
   ],
   "source": [
    "not (5 > 4)"
   ]
  },
  {
   "cell_type": "code",
   "execution_count": 3,
   "id": "28a2b7ec",
   "metadata": {},
   "outputs": [
    {
     "data": {
      "text/plain": [
       "True"
      ]
     },
     "execution_count": 3,
     "metadata": {},
     "output_type": "execute_result"
    }
   ],
   "source": [
    "(5 > 4) or (3 == 5)"
   ]
  },
  {
   "cell_type": "code",
   "execution_count": 4,
   "id": "39a4ca41",
   "metadata": {},
   "outputs": [
    {
     "data": {
      "text/plain": [
       "False"
      ]
     },
     "execution_count": 4,
     "metadata": {},
     "output_type": "execute_result"
    }
   ],
   "source": [
    "not ((5 > 4) or (3 == 5))"
   ]
  },
  {
   "cell_type": "code",
   "execution_count": 5,
   "id": "8fac8d57",
   "metadata": {},
   "outputs": [
    {
     "data": {
      "text/plain": [
       "False"
      ]
     },
     "execution_count": 5,
     "metadata": {},
     "output_type": "execute_result"
    }
   ],
   "source": [
    "(True and True) and (True == False)"
   ]
  },
  {
   "cell_type": "code",
   "execution_count": 6,
   "id": "f5f2c479",
   "metadata": {},
   "outputs": [
    {
     "data": {
      "text/plain": [
       "True"
      ]
     },
     "execution_count": 6,
     "metadata": {},
     "output_type": "execute_result"
    }
   ],
   "source": [
    "(not False) or (not True)"
   ]
  },
  {
   "cell_type": "code",
   "execution_count": null,
   "id": "b73ffb65",
   "metadata": {},
   "outputs": [],
   "source": [
    "Six comparision operators are :\n",
    "    <\n",
    "    >\n",
    "    <=\n",
    "    >=\n",
    "    ==\n",
    "    !="
   ]
  },
  {
   "cell_type": "code",
   "execution_count": null,
   "id": "295f3366",
   "metadata": {},
   "outputs": [],
   "source": [
    "== operator ment for content comparision. If the content is same then it returns True.\n",
    "eg:\n",
    "    'Sai'=='Sai' #True\n",
    "= operator is a assignment operator. It is useeed to assign a value to variable. \n",
    "eg:\n",
    "    x=10"
   ]
  },
  {
   "cell_type": "code",
   "execution_count": null,
   "id": "669f1571",
   "metadata": {},
   "outputs": [],
   "source": [
    "In python the block starts when we use :\n",
    "The blocks are\n",
    "    if spam == 10:\n",
    "    if spam > 5:\n",
    "    else:"
   ]
  },
  {
   "cell_type": "code",
   "execution_count": 7,
   "id": "647b0ab6",
   "metadata": {},
   "outputs": [
    {
     "name": "stdout",
     "output_type": "stream",
     "text": [
      "Hello\n"
     ]
    }
   ],
   "source": [
    "spam=[1,2]\n",
    "if 1 in spam:\n",
    "    print('Hello')\n",
    "elif 2 in spam:\n",
    "    print('Howdy')\n",
    "else:\n",
    "    print('Greetings!')"
   ]
  },
  {
   "cell_type": "code",
   "execution_count": null,
   "id": "218e45dd",
   "metadata": {},
   "outputs": [],
   "source": [
    "If the program is stucked in en endless loop, we will press 'Kernel'+'Restart'"
   ]
  },
  {
   "cell_type": "code",
   "execution_count": null,
   "id": "e1e24aeb",
   "metadata": {},
   "outputs": [],
   "source": [
    "break: We use break statement when a condition satifies and to break a loop. After break statement no statement in loop executes.\n",
    "continue: We use continue statement to continue a loop. After continue statement statement execution continues."
   ]
  },
  {
   "cell_type": "code",
   "execution_count": null,
   "id": "4e404687",
   "metadata": {},
   "outputs": [],
   "source": [
    "range(10): Here the for loop executes upto end-1\n",
    "range(0, 10): Here the loop executes from starting index to to end-1\n",
    "range(0, 10, 1): Here the loop executes from starting to end-1 with a step value(difference) of 1."
   ]
  },
  {
   "cell_type": "code",
   "execution_count": 8,
   "id": "7b040ea2",
   "metadata": {},
   "outputs": [
    {
     "name": "stdout",
     "output_type": "stream",
     "text": [
      "1\n",
      "2\n",
      "3\n",
      "4\n",
      "5\n",
      "6\n",
      "7\n",
      "8\n",
      "9\n",
      "10\n"
     ]
    }
   ],
   "source": [
    "for i in range(1,11):\n",
    "    print(i)"
   ]
  },
  {
   "cell_type": "code",
   "execution_count": 9,
   "id": "6cc77ca2",
   "metadata": {},
   "outputs": [
    {
     "name": "stdout",
     "output_type": "stream",
     "text": [
      "1\n",
      "2\n",
      "3\n",
      "4\n",
      "5\n",
      "6\n",
      "7\n",
      "8\n",
      "9\n",
      "10\n"
     ]
    }
   ],
   "source": [
    "j=1\n",
    "while j<=10:\n",
    "    print(j)\n",
    "    j+=1"
   ]
  },
  {
   "cell_type": "code",
   "execution_count": null,
   "id": "bd3e696e",
   "metadata": {},
   "outputs": [],
   "source": [
    "from spam import *\n",
    "bacon()"
   ]
  }
 ],
 "metadata": {
  "kernelspec": {
   "display_name": "Python 3 (ipykernel)",
   "language": "python",
   "name": "python3"
  },
  "language_info": {
   "codemirror_mode": {
    "name": "ipython",
    "version": 3
   },
   "file_extension": ".py",
   "mimetype": "text/x-python",
   "name": "python",
   "nbconvert_exporter": "python",
   "pygments_lexer": "ipython3",
   "version": "3.9.12"
  }
 },
 "nbformat": 4,
 "nbformat_minor": 5
}
