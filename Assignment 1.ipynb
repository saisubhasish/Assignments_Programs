{
 "cells": [
  {
   "cell_type": "code",
   "execution_count": 1,
   "id": "24e996b7",
   "metadata": {},
   "outputs": [
    {
     "ename": "SyntaxError",
     "evalue": "invalid syntax (1812352660.py, line 1)",
     "output_type": "error",
     "traceback": [
      "\u001b[1;36m  Input \u001b[1;32mIn [1]\u001b[1;36m\u001b[0m\n\u001b[1;33m    Values: 'hello',-87.8,6\u001b[0m\n\u001b[1;37m                   ^\u001b[0m\n\u001b[1;31mSyntaxError\u001b[0m\u001b[1;31m:\u001b[0m invalid syntax\n"
     ]
    }
   ],
   "source": [
    "Values: 'hello',-87.8,6\n",
    "Expressionas: *,-,/,+"
   ]
  },
  {
   "cell_type": "code",
   "execution_count": 3,
   "id": "31eb5bb8",
   "metadata": {},
   "outputs": [
    {
     "ename": "SyntaxError",
     "evalue": "invalid syntax (1707318159.py, line 1)",
     "output_type": "error",
     "traceback": [
      "\u001b[1;36m  Input \u001b[1;32mIn [3]\u001b[1;36m\u001b[0m\n\u001b[1;33m    String: String is a fundamental data type and we represent string in '', \"\" and to represent multiline string literal we use \"\"\" \"\"\" and ''' '''.\u001b[0m\n\u001b[1;37m                        ^\u001b[0m\n\u001b[1;31mSyntaxError\u001b[0m\u001b[1;31m:\u001b[0m invalid syntax\n"
     ]
    }
   ],
   "source": [
    "String: String is a fundamental data type and we represent string in '', \"\" and to represent multiline string literal we use \"\"\" \"\"\" and ''' '''.\n",
    "Variable: Variable is a name which is used to store different types of values. In pyton variable has no type. According to the input value PVM considers the type.    "
   ]
  },
  {
   "cell_type": "code",
   "execution_count": 4,
   "id": "6e517a39",
   "metadata": {},
   "outputs": [
    {
     "ename": "SyntaxError",
     "evalue": "invalid syntax (1935366662.py, line 1)",
     "output_type": "error",
     "traceback": [
      "\u001b[1;36m  Input \u001b[1;32mIn [4]\u001b[1;36m\u001b[0m\n\u001b[1;33m    Three fundamental data types are int, bool, str.\u001b[0m\n\u001b[1;37m          ^\u001b[0m\n\u001b[1;31mSyntaxError\u001b[0m\u001b[1;31m:\u001b[0m invalid syntax\n"
     ]
    }
   ],
   "source": [
    "Three fundamental data types are int, bool, str.\n",
    "int: Used to represent the decimal numbers.\n",
    "bool: Used to represent logical values as True and False.\n",
    "str: Used to represent group of characters or numbers or special characters."
   ]
  },
  {
   "cell_type": "code",
   "execution_count": 5,
   "id": "c4e4bef7",
   "metadata": {},
   "outputs": [
    {
     "ename": "SyntaxError",
     "evalue": "invalid syntax (2125229882.py, line 1)",
     "output_type": "error",
     "traceback": [
      "\u001b[1;36m  Input \u001b[1;32mIn [5]\u001b[1;36m\u001b[0m\n\u001b[1;33m    An expression made up of numbers and mathematical oprerators. These expressions used to get a value by entering the other related values.\u001b[0m\n\u001b[1;37m       ^\u001b[0m\n\u001b[1;31mSyntaxError\u001b[0m\u001b[1;31m:\u001b[0m invalid syntax\n"
     ]
    }
   ],
   "source": [
    "An expression made up of numbers and mathematical oprerators. These expressions used to get a value by entering the other related values."
   ]
  },
  {
   "cell_type": "code",
   "execution_count": 6,
   "id": "ea9e7cbc",
   "metadata": {},
   "outputs": [
    {
     "ename": "SyntaxError",
     "evalue": "invalid syntax (1484802506.py, line 1)",
     "output_type": "error",
     "traceback": [
      "\u001b[1;36m  Input \u001b[1;32mIn [6]\u001b[1;36m\u001b[0m\n\u001b[1;33m    In the statement spam=10, here we are assigning the value 10 to the variable spam, means when ever we will print 'span' will get the value. But in any expression we can provide different values get multiple output.\u001b[0m\n\u001b[1;37m       ^\u001b[0m\n\u001b[1;31mSyntaxError\u001b[0m\u001b[1;31m:\u001b[0m invalid syntax\n"
     ]
    }
   ],
   "source": [
    "In the statement spam=10, here we are assigning the value 10 to the variable spam, means when ever we will print 'span' will get the value. But in any expression we can provide different values get multiple output."
   ]
  },
  {
   "cell_type": "code",
   "execution_count": 10,
   "id": "1d8ea9ba",
   "metadata": {},
   "outputs": [],
   "source": [
    "bacon=22"
   ]
  },
  {
   "cell_type": "code",
   "execution_count": 11,
   "id": "a94e934f",
   "metadata": {},
   "outputs": [
    {
     "data": {
      "text/plain": [
       "23"
      ]
     },
     "execution_count": 11,
     "metadata": {},
     "output_type": "execute_result"
    }
   ],
   "source": [
    "bacon+1"
   ]
  },
  {
   "cell_type": "code",
   "execution_count": 12,
   "id": "0a17a68e",
   "metadata": {},
   "outputs": [
    {
     "data": {
      "text/plain": [
       "'spamspamspam'"
      ]
     },
     "execution_count": 12,
     "metadata": {},
     "output_type": "execute_result"
    }
   ],
   "source": [
    "'spam'+'spamspam'"
   ]
  },
  {
   "cell_type": "code",
   "execution_count": 13,
   "id": "f1bcff5c",
   "metadata": {},
   "outputs": [
    {
     "data": {
      "text/plain": [
       "'spamspamspam'"
      ]
     },
     "execution_count": 13,
     "metadata": {},
     "output_type": "execute_result"
    }
   ],
   "source": [
    "'spam'*3"
   ]
  },
  {
   "cell_type": "code",
   "execution_count": 14,
   "id": "0b6ae398",
   "metadata": {},
   "outputs": [
    {
     "ename": "SyntaxError",
     "evalue": "invalid syntax (1426298004.py, line 1)",
     "output_type": "error",
     "traceback": [
      "\u001b[1;36m  Input \u001b[1;32mIn [14]\u001b[1;36m\u001b[0m\n\u001b[1;33m    eggs is a valid variable name while 100 is invalid because in Python the variable should start with a letter or the underscore character but not with numbers.\u001b[0m\n\u001b[1;37m              ^\u001b[0m\n\u001b[1;31mSyntaxError\u001b[0m\u001b[1;31m:\u001b[0m invalid syntax\n"
     ]
    }
   ],
   "source": [
    "eggs is a valid variable name while 100 is invalid because in Python the variable should start with a letter or the underscore character but not with numbers."
   ]
  },
  {
   "cell_type": "code",
   "execution_count": 15,
   "id": "5899a21e",
   "metadata": {},
   "outputs": [
    {
     "ename": "SyntaxError",
     "evalue": "invalid syntax (1073211191.py, line 1)",
     "output_type": "error",
     "traceback": [
      "\u001b[1;36m  Input \u001b[1;32mIn [15]\u001b[1;36m\u001b[0m\n\u001b[1;33m    Three functions can be used to get the integer, floating-point number, or string version of a value: int(), float(), str().\u001b[0m\n\u001b[1;37m          ^\u001b[0m\n\u001b[1;31mSyntaxError\u001b[0m\u001b[1;31m:\u001b[0m invalid syntax\n"
     ]
    }
   ],
   "source": [
    "Three functions can be used to get the integer, floating-point number, or string version of a value: int(), float(), str()."
   ]
  },
  {
   "cell_type": "code",
   "execution_count": 16,
   "id": "9f8e3e75",
   "metadata": {},
   "outputs": [
    {
     "ename": "SyntaxError",
     "evalue": "invalid syntax (2736385300.py, line 1)",
     "output_type": "error",
     "traceback": [
      "\u001b[1;36m  Input \u001b[1;32mIn [16]\u001b[1;36m\u001b[0m\n\u001b[1;33m    'I have eaten'+99+'burritos' causing error because for string concatenation all three should be of str type.\u001b[0m\n\u001b[1;37m                                 ^\u001b[0m\n\u001b[1;31mSyntaxError\u001b[0m\u001b[1;31m:\u001b[0m invalid syntax\n"
     ]
    }
   ],
   "source": [
    "'I have eaten'+99+'burritos' causing error because for string concatenation all three should be of str type."
   ]
  },
  {
   "cell_type": "code",
   "execution_count": 17,
   "id": "2e7b85bd",
   "metadata": {},
   "outputs": [
    {
     "data": {
      "text/plain": [
       "'I have eaten99burritos'"
      ]
     },
     "execution_count": 17,
     "metadata": {},
     "output_type": "execute_result"
    }
   ],
   "source": [
    "'I have eaten'+'99'+'burritos'"
   ]
  },
  {
   "cell_type": "code",
   "execution_count": null,
   "id": "07f0f34f",
   "metadata": {},
   "outputs": [],
   "source": []
  }
 ],
 "metadata": {
  "kernelspec": {
   "display_name": "Python 3 (ipykernel)",
   "language": "python",
   "name": "python3"
  },
  "language_info": {
   "codemirror_mode": {
    "name": "ipython",
    "version": 3
   },
   "file_extension": ".py",
   "mimetype": "text/x-python",
   "name": "python",
   "nbconvert_exporter": "python",
   "pygments_lexer": "ipython3",
   "version": "3.9.12"
  }
 },
 "nbformat": 4,
 "nbformat_minor": 5
}
